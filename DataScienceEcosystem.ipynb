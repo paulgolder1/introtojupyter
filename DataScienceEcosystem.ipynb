{
 "cells": [
  {
   "cell_type": "markdown",
   "metadata": {},
   "source": [
    "<h1>Data Science Tools and Ecosystem</h1>\n",
    "\n",
    "In this notebook, we will create a summary of Data Science Tools and Ecosystem."
   ]
  },
  {
   "cell_type": "markdown",
   "metadata": {},
   "source": [
    "Some of the popular languages that Data Scientists use are:\n",
    "<ol>\n",
    "    <li>Python\n",
    "    <li>R\n",
    "    <li>Java\n",
    "</ol>\n",
    "    "
   ]
  },
  {
   "cell_type": "markdown",
   "metadata": {},
   "source": [
    "<b>Objectives:</b>\n",
    "\n",
    "Some of the objectives covered in this notebook:\n",
    "\n",
    "<ul>\n",
    "    <li>List popular languages for data science\n",
    "    <li>List popular libraries used by data scientists\n",
    "    <li>Evaluate arithmetic expressions\n",
    "</ul>"
   ]
  },
  {
   "cell_type": "markdown",
   "metadata": {},
   "source": [
    "Some of the commonly used libraries used by Data Scientists include:\n",
    "\n",
    "<ol>\n",
    "    <li>Pandas\n",
    "    <li>NumPy\n",
    "    <li>Matplotlib\n",
    "</ol>"
   ]
  },
  {
   "cell_type": "markdown",
   "metadata": {},
   "source": [
    "<table>\n",
    "  <tr>\n",
    "    <th>Data Science Tools</th>\n",
    "  </tr>\n",
    "  <tr>\n",
    "    <td>Jupyter Notebook</td>\n",
    "  </tr>\n",
    "  <tr>\n",
    "    <td>RStudio</td>\n",
    "  </tr>\n",
    "  <tr>\n",
    "    <td>Apache Zeppelin</td>\n",
    "  </tr>\n",
    "</table>"
   ]
  },
  {
   "attachments": {},
   "cell_type": "markdown",
   "metadata": {},
   "source": [
    "<h3>Below are a few examples of evaluating arithmetic expressions in Python</h3>\n",
    "\n",
    "<pre>a = 10\n",
    "b = 5\n",
    "sum = a + b\n",
    "sum\n",
    "\n",
    "brackets = (10 + 5) * 2 - (3 * 4) / 2\n",
    "brackets\n",
    "\n",
    "c = 4\n",
    "d = 2\n",
    "power = c ** d\n",
    "power</pre>"
   ]
  },
  {
   "cell_type": "code",
   "execution_count": 6,
   "metadata": {},
   "outputs": [
    {
     "name": "stdout",
     "output_type": "stream",
     "text": [
      "This a simple arithmetic expression to mutiply then add integers\n"
     ]
    },
    {
     "data": {
      "text/plain": [
       "17"
      ]
     },
     "execution_count": 6,
     "metadata": {},
     "output_type": "execute_result"
    }
   ],
   "source": [
    "print(\"This a simple arithmetic expression to mutiply then add integers\")\n",
    "\n",
    "(3*4)+5"
   ]
  },
  {
   "cell_type": "code",
   "execution_count": 9,
   "metadata": {},
   "outputs": [
    {
     "name": "stdout",
     "output_type": "stream",
     "text": [
      "This will convert 200 minutes to hours by diving by 60\n",
      "200 minutes is equal to 3.3333333333333335 hours.\n"
     ]
    }
   ],
   "source": [
    "print(\"This will convert 200 minutes to hours by diving by 60\")\n",
    "\n",
    "minutes = 200\n",
    "hours = minutes/60\n",
    "\n",
    "print(f\"{minutes} minutes is equal to {hours} hours.\")"
   ]
  },
  {
   "cell_type": "markdown",
   "metadata": {},
   "source": [
    "<h2>Author</h2>\n",
    "\n",
    "Paul Golder"
   ]
  }
 ],
 "metadata": {
  "kernelspec": {
   "display_name": "Python 3",
   "language": "python",
   "name": "python3"
  },
  "language_info": {
   "codemirror_mode": {
    "name": "ipython",
    "version": 3
   },
   "file_extension": ".py",
   "mimetype": "text/x-python",
   "name": "python",
   "nbconvert_exporter": "python",
   "pygments_lexer": "ipython3",
   "version": "3.8.5"
  }
 },
 "nbformat": 4,
 "nbformat_minor": 4
}
